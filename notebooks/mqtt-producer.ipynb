{
 "cells": [
  {
   "cell_type": "code",
   "execution_count": null,
   "id": "b26d3fbe",
   "metadata": {},
   "outputs": [],
   "source": [
    "import numpy as np\n",
    "import json\n",
    "import time\n",
    "import paho.mqtt.client as mqtt\n",
    "\n",
    "brokerAddress = '172.17.0.1'\n",
    "port = 1883\n",
    "topic = 'service/test/machine'\n",
    "\n",
    "def currentTimeMillis():\n",
    "    return round(time.time() * 1000)\n",
    "\n",
    "def publishRandomTimeSeriesData(client, topic):\n",
    "    data_set = {\"timestamp\": str(currentTimeMillis()), \"value\": str(np.random.uniform(0,100)) }\n",
    "    message = json.dumps(data_set)\n",
    "    print(message)\n",
    "    return client.publish(topic, json.dumps(data_set));\n",
    "\n",
    "    \n",
    "def on_connect(client, userdata, flags, rc):\n",
    "    print(\"Connected with result code \"+str(rc))\n",
    "\n",
    "# set paho.mqtt callback\n",
    "client = mqtt.Client(client_id='jupyter', clean_session=True)\n",
    "client.on_connect = on_connect\n",
    "client.username_pw_set(\"admin\", \"admin\")\n",
    "client.connect(brokerAddress, port=port, keepalive=60)\n",
    "print(\"Broker: %s:%s\" % (brokerAddress,port))\n",
    "\n",
    "try:\n",
    "    global topic\n",
    "    for i in range(1000):\n",
    "        ret = publishRandomTimeSeriesData(client, topic)\n",
    "        time.sleep(1)\n",
    "    else:\n",
    "      print(\"Publishing finished!\")\n",
    "  \n",
    "except KeyboardInterrupt:\n",
    "    print('disconnect')\n",
    "    client.disconnect()"
   ]
  }
 ],
 "metadata": {
  "kernelspec": {
   "display_name": "Python 3 (ipykernel)",
   "language": "python",
   "name": "python3"
  },
  "language_info": {
   "codemirror_mode": {
    "name": "ipython",
    "version": 3
   },
   "file_extension": ".py",
   "mimetype": "text/x-python",
   "name": "python",
   "nbconvert_exporter": "python",
   "pygments_lexer": "ipython3",
   "version": "3.8.10"
  }
 },
 "nbformat": 4,
 "nbformat_minor": 5
}
